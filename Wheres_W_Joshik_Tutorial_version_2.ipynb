{
 "cells": [
  {
   "cell_type": "markdown",
   "id": "9ef2a87c",
   "metadata": {},
   "source": [
    "1.1 Install Dependencies"
   ]
  },
  {
   "cell_type": "code",
   "execution_count": 2,
   "id": "8d31e664",
   "metadata": {},
   "outputs": [
    {
     "name": "stdout",
     "output_type": "stream",
     "text": [
      "Requirement already satisfied: tensorflow==2.9.1 in /Applications/anaconda3/lib/python3.9/site-packages (2.9.1)\n",
      "Requirement already satisfied: opencv-python in /Applications/anaconda3/lib/python3.9/site-packages (4.6.0.66)\n",
      "Requirement already satisfied: CMake in /Applications/anaconda3/lib/python3.9/site-packages (3.22.5)\n",
      "Requirement already satisfied: matplotlib in /Applications/anaconda3/lib/python3.9/site-packages (3.4.3)\n",
      "Requirement already satisfied: dlib in /Applications/anaconda3/lib/python3.9/site-packages (19.24.0)\n",
      "Requirement already satisfied: face-recognition in /Applications/anaconda3/lib/python3.9/site-packages (1.3.0)\n",
      "Requirement already satisfied: h5py>=2.9.0 in /Applications/anaconda3/lib/python3.9/site-packages (from tensorflow==2.9.1) (3.2.1)\n",
      "Requirement already satisfied: astunparse>=1.6.0 in /Applications/anaconda3/lib/python3.9/site-packages (from tensorflow==2.9.1) (1.6.3)\n",
      "Requirement already satisfied: absl-py>=1.0.0 in /Applications/anaconda3/lib/python3.9/site-packages (from tensorflow==2.9.1) (1.1.0)\n",
      "Requirement already satisfied: typing-extensions>=3.6.6 in /Applications/anaconda3/lib/python3.9/site-packages (from tensorflow==2.9.1) (4.2.0)\n",
      "Requirement already satisfied: numpy>=1.20 in /Applications/anaconda3/lib/python3.9/site-packages (from tensorflow==2.9.1) (1.20.3)\n",
      "Requirement already satisfied: flatbuffers<2,>=1.12 in /Applications/anaconda3/lib/python3.9/site-packages (from tensorflow==2.9.1) (1.12)\n",
      "Requirement already satisfied: opt-einsum>=2.3.2 in /Applications/anaconda3/lib/python3.9/site-packages (from tensorflow==2.9.1) (3.3.0)\n",
      "Requirement already satisfied: protobuf<3.20,>=3.9.2 in /Applications/anaconda3/lib/python3.9/site-packages (from tensorflow==2.9.1) (3.19.4)\n",
      "Requirement already satisfied: gast<=0.4.0,>=0.2.1 in /Applications/anaconda3/lib/python3.9/site-packages (from tensorflow==2.9.1) (0.4.0)\n",
      "Requirement already satisfied: grpcio<2.0,>=1.24.3 in /Applications/anaconda3/lib/python3.9/site-packages (from tensorflow==2.9.1) (1.47.0)\n",
      "Requirement already satisfied: tensorboard<2.10,>=2.9 in /Applications/anaconda3/lib/python3.9/site-packages (from tensorflow==2.9.1) (2.9.1)\n",
      "Requirement already satisfied: setuptools in /Applications/anaconda3/lib/python3.9/site-packages (from tensorflow==2.9.1) (58.0.4)\n",
      "Requirement already satisfied: keras<2.10.0,>=2.9.0rc0 in /Applications/anaconda3/lib/python3.9/site-packages (from tensorflow==2.9.1) (2.9.0)\n",
      "Requirement already satisfied: tensorflow-io-gcs-filesystem>=0.23.1 in /Applications/anaconda3/lib/python3.9/site-packages (from tensorflow==2.9.1) (0.26.0)\n",
      "Requirement already satisfied: packaging in /Applications/anaconda3/lib/python3.9/site-packages (from tensorflow==2.9.1) (21.0)\n",
      "Requirement already satisfied: keras-preprocessing>=1.1.1 in /Applications/anaconda3/lib/python3.9/site-packages (from tensorflow==2.9.1) (1.1.2)\n",
      "Requirement already satisfied: termcolor>=1.1.0 in /Applications/anaconda3/lib/python3.9/site-packages (from tensorflow==2.9.1) (1.1.0)\n",
      "Requirement already satisfied: libclang>=13.0.0 in /Applications/anaconda3/lib/python3.9/site-packages (from tensorflow==2.9.1) (14.0.1)\n",
      "Requirement already satisfied: google-pasta>=0.1.1 in /Applications/anaconda3/lib/python3.9/site-packages (from tensorflow==2.9.1) (0.2.0)\n",
      "Requirement already satisfied: six>=1.12.0 in /Applications/anaconda3/lib/python3.9/site-packages (from tensorflow==2.9.1) (1.16.0)\n",
      "Requirement already satisfied: wrapt>=1.11.0 in /Applications/anaconda3/lib/python3.9/site-packages (from tensorflow==2.9.1) (1.12.1)\n",
      "Requirement already satisfied: tensorflow-estimator<2.10.0,>=2.9.0rc0 in /Applications/anaconda3/lib/python3.9/site-packages (from tensorflow==2.9.1) (2.9.0)\n",
      "Requirement already satisfied: kiwisolver>=1.0.1 in /Applications/anaconda3/lib/python3.9/site-packages (from matplotlib) (1.3.1)\n",
      "Requirement already satisfied: pyparsing>=2.2.1 in /Applications/anaconda3/lib/python3.9/site-packages (from matplotlib) (3.0.4)\n",
      "Requirement already satisfied: python-dateutil>=2.7 in /Applications/anaconda3/lib/python3.9/site-packages (from matplotlib) (2.8.2)\n",
      "Requirement already satisfied: cycler>=0.10 in /Applications/anaconda3/lib/python3.9/site-packages (from matplotlib) (0.10.0)\n",
      "Requirement already satisfied: pillow>=6.2.0 in /Applications/anaconda3/lib/python3.9/site-packages (from matplotlib) (8.4.0)\n",
      "Requirement already satisfied: face-recognition-models>=0.3.0 in /Applications/anaconda3/lib/python3.9/site-packages (from face-recognition) (0.3.0)\n",
      "Requirement already satisfied: Click>=6.0 in /Applications/anaconda3/lib/python3.9/site-packages (from face-recognition) (8.0.3)\n",
      "Requirement already satisfied: wheel<1.0,>=0.23.0 in /Applications/anaconda3/lib/python3.9/site-packages (from astunparse>=1.6.0->tensorflow==2.9.1) (0.37.0)\n",
      "Requirement already satisfied: markdown>=2.6.8 in /Applications/anaconda3/lib/python3.9/site-packages (from tensorboard<2.10,>=2.9->tensorflow==2.9.1) (3.3.7)\n",
      "Requirement already satisfied: google-auth<3,>=1.6.3 in /Applications/anaconda3/lib/python3.9/site-packages (from tensorboard<2.10,>=2.9->tensorflow==2.9.1) (2.9.0)\n",
      "Requirement already satisfied: requests<3,>=2.21.0 in /Applications/anaconda3/lib/python3.9/site-packages (from tensorboard<2.10,>=2.9->tensorflow==2.9.1) (2.26.0)\n",
      "Requirement already satisfied: tensorboard-data-server<0.7.0,>=0.6.0 in /Applications/anaconda3/lib/python3.9/site-packages (from tensorboard<2.10,>=2.9->tensorflow==2.9.1) (0.6.1)\n",
      "Requirement already satisfied: werkzeug>=1.0.1 in /Applications/anaconda3/lib/python3.9/site-packages (from tensorboard<2.10,>=2.9->tensorflow==2.9.1) (2.0.2)\n",
      "Requirement already satisfied: tensorboard-plugin-wit>=1.6.0 in /Applications/anaconda3/lib/python3.9/site-packages (from tensorboard<2.10,>=2.9->tensorflow==2.9.1) (1.8.1)\n",
      "Requirement already satisfied: google-auth-oauthlib<0.5,>=0.4.1 in /Applications/anaconda3/lib/python3.9/site-packages (from tensorboard<2.10,>=2.9->tensorflow==2.9.1) (0.4.6)\n",
      "Requirement already satisfied: rsa<5,>=3.1.4 in /Applications/anaconda3/lib/python3.9/site-packages (from google-auth<3,>=1.6.3->tensorboard<2.10,>=2.9->tensorflow==2.9.1) (4.8)\n",
      "Requirement already satisfied: pyasn1-modules>=0.2.1 in /Applications/anaconda3/lib/python3.9/site-packages (from google-auth<3,>=1.6.3->tensorboard<2.10,>=2.9->tensorflow==2.9.1) (0.2.8)\n",
      "Requirement already satisfied: cachetools<6.0,>=2.0.0 in /Applications/anaconda3/lib/python3.9/site-packages (from google-auth<3,>=1.6.3->tensorboard<2.10,>=2.9->tensorflow==2.9.1) (5.2.0)\n",
      "Requirement already satisfied: requests-oauthlib>=0.7.0 in /Applications/anaconda3/lib/python3.9/site-packages (from google-auth-oauthlib<0.5,>=0.4.1->tensorboard<2.10,>=2.9->tensorflow==2.9.1) (1.3.1)\n",
      "Requirement already satisfied: importlib-metadata>=4.4 in /Applications/anaconda3/lib/python3.9/site-packages (from markdown>=2.6.8->tensorboard<2.10,>=2.9->tensorflow==2.9.1) (4.8.1)\n",
      "Requirement already satisfied: zipp>=0.5 in /Applications/anaconda3/lib/python3.9/site-packages (from importlib-metadata>=4.4->markdown>=2.6.8->tensorboard<2.10,>=2.9->tensorflow==2.9.1) (3.6.0)\n",
      "Requirement already satisfied: pyasn1<0.5.0,>=0.4.6 in /Applications/anaconda3/lib/python3.9/site-packages (from pyasn1-modules>=0.2.1->google-auth<3,>=1.6.3->tensorboard<2.10,>=2.9->tensorflow==2.9.1) (0.4.8)\n",
      "Requirement already satisfied: certifi>=2017.4.17 in /Applications/anaconda3/lib/python3.9/site-packages (from requests<3,>=2.21.0->tensorboard<2.10,>=2.9->tensorflow==2.9.1) (2021.10.8)\n",
      "Requirement already satisfied: urllib3<1.27,>=1.21.1 in /Applications/anaconda3/lib/python3.9/site-packages (from requests<3,>=2.21.0->tensorboard<2.10,>=2.9->tensorflow==2.9.1) (1.26.7)\n",
      "Requirement already satisfied: charset-normalizer~=2.0.0 in /Applications/anaconda3/lib/python3.9/site-packages (from requests<3,>=2.21.0->tensorboard<2.10,>=2.9->tensorflow==2.9.1) (2.0.4)\n",
      "Requirement already satisfied: idna<4,>=2.5 in /Applications/anaconda3/lib/python3.9/site-packages (from requests<3,>=2.21.0->tensorboard<2.10,>=2.9->tensorflow==2.9.1) (3.2)\n",
      "Requirement already satisfied: oauthlib>=3.0.0 in /Applications/anaconda3/lib/python3.9/site-packages (from requests-oauthlib>=0.7.0->google-auth-oauthlib<0.5,>=0.4.1->tensorboard<2.10,>=2.9->tensorflow==2.9.1) (3.2.0)\n"
     ]
    }
   ],
   "source": [
    "!pip install opencv-python CMake matplotlib\n"
   ]
  },
  {
   "cell_type": "code",
   "execution_count": null,
   "id": "50d873d8",
   "metadata": {},
   "outputs": [],
   "source": [
    "!pip install dlib face-recognition"
   ]
  },
  {
   "cell_type": "markdown",
   "id": "8024479b",
   "metadata": {},
   "source": [
    "1.2 Import Dependencies"
   ]
  },
  {
   "cell_type": "code",
   "execution_count": 49,
   "id": "13fc4bac",
   "metadata": {},
   "outputs": [],
   "source": [
    "# Import standard dependencies\n",
    "\n",
    "import cv2\n",
    "import os\n",
    "import random\n",
    "import numpy as np\n",
    "from matplotlib import pyplot as plt\n",
    "import face_recognition as face_rec\n",
    "import jovian\n",
    "from IPython import display\n",
    "from base64 import b64decode\n",
    "from PIL import Image\n",
    "import urllib.request\n",
    "\n"
   ]
  },
  {
   "cell_type": "code",
   "execution_count": 47,
   "id": "f7cd26c7",
   "metadata": {},
   "outputs": [
    {
     "data": {
      "text/plain": [
       "'\\ncv2.imshow(\"Test Image\",test_img)\\ncv2.waitKey(0)\\ncv2.destroyAllWindows()\\ncv2.waitKey(1)\\n'"
      ]
     },
     "execution_count": 47,
     "metadata": {},
     "output_type": "execute_result"
    }
   ],
   "source": [
    "\n",
    "\"\"\"\n",
    "cv2.imshow(\"Test Image\",test_img)\n",
    "cv2.waitKey(0)\n",
    "cv2.destroyAllWindows()\n",
    "cv2.waitKey(1)\n",
    "\"\"\""
   ]
  },
  {
   "cell_type": "code",
   "execution_count": 52,
   "id": "e8755acc",
   "metadata": {},
   "outputs": [],
   "source": [
    "# Now find all faces in an image and then compare them to the target image, if they match highlight that face\n",
    "# and add the success message - \"Working when faces are detected and Robert is in the group or not\"\n",
    "\n",
    "url = \"https://github.com/smokinsnail/Wheres_W/blob/main/1654171278402.jpeg?raw=true\"\n",
    "response = urllib.request.urlopen(url)\n",
    "test_img = face_rec.load_image_file(response)\n",
    "\n",
    "\n",
    "\n",
    "test_img = cv2.cvtColor(test_img,cv2.COLOR_BGR2RGB)\n",
    "face_location_test_img = face_rec.face_locations(test_img)\n",
    "encode_test_img = face_rec.face_encodings(test_img,face_location_test_img)\n",
    "\n",
    "\n",
    "encode_person = np.ndarray(shape=(128,), dtype=float, order='F')\n",
    "encode_person = [-0.07901011,  0.12878096,  0.07996677, -0.02098858, -0.14011168,  0.01932599,\n",
    " -0.07499441, -0.16647424,  0.08260237, -0.10271854,  0.29843763,  0.05930148,\n",
    " -0.292395,   -0.10695866,  0.00254978,  0.10591428, -0.21132573, -0.14702713,\n",
    " -0.16247043, -0.10908978, -0.00153435, -0.01854893,  0.02254264, -0.0437211,\n",
    " -0.139832,   -0.29761234, -0.05774347, -0.04439389,  0.11852227, -0.03771918,\n",
    "  0.0242641,   0.02804248, -0.17833287, -0.04032507, -0.03887945,  0.08007224,\n",
    " -0.12493795, -0.09298723,  0.2000351,  -0.03958245, -0.18109329,  0.11205311,\n",
    " -0.01093306,  0.26376089,  0.32980764, -0.04519144,  0.061932,   -0.05254853,\n",
    "  0.10969403, -0.33642882,  0.08210494,  0.23304531,  0.13042033,  0.10967523,\n",
    "  0.05782787, -0.14344898,  0.0053038,   0.21451935, -0.11919826,  0.00464117,\n",
    "  0.12445739, -0.13833697,  0.02516976, -0.07278441,  0.121585,    0.09166456,\n",
    " -0.10140821, -0.11274913,  0.15589087, -0.13672362, -0.08482926,  0.05443984,\n",
    " -0.14937155, -0.15051252, -0.32357952,  0.08604887,  0.40303075,  0.19504014,\n",
    " -0.15006061, -0.0164818,  -0.10727333,  0.01499074,  0.02691087, -0.00702068,\n",
    " -0.05937758, -0.16659936, -0.15846257,  0.03206882,  0.19452986, -0.02284274,\n",
    "  0.00098497,  0.26130587,  0.091924,   -0.0544599,   0.06494705,  0.08099397,\n",
    " -0.09153275, -0.0417882,  -0.11647475,  0.00861217, -0.0278556, -0.1451785,\n",
    "  0.01562741,  0.07868959, -0.14657331,  0.24666686, -0.01591355,  0.07214489,\n",
    "  0.02635054, -0.10249276, -0.00504032,  0.03030798,  0.18518236, -0.2340003,\n",
    "  0.20982264,  0.21715993,  0.07585099,  0.15576118,  0.10389148,  0.06812707,\n",
    " -0.09803451, -0.05481872, -0.17467777, -0.12237456, -0.05268409, -0.0192339,\n",
    "  0.01764107,  0.10180254]\n",
    "\n",
    "\n",
    "message = \"We didn't find Robert\"\n",
    "for face,location in zip(encode_test_img,face_location_test_img):\n",
    "    result = face_rec.compare_faces([encode_person],face)\n",
    "    if result[0] == True:\n",
    "        img_text = \"We found Robert!\"\n",
    "        cv2.putText(test_img, f'{img_text}', (location[3] - 150,location[0]- 50), cv2.FONT_HERSHEY_COMPLEX, 1, (0,255,255), 2 )\n",
    "        cv2.rectangle(test_img,(location[3],location[0]),(location[1],location[2]),(255,0,255),3)\n",
    "        cv2.imshow('Test Image', test_img)\n",
    "        cv2.waitKey(0)\n",
    "        cv2.destroyAllWindows()\n",
    "        cv2.waitKey(1)\n",
    "        break\n",
    "\n",
    "    \n",
    "\n"
   ]
  },
  {
   "cell_type": "code",
   "execution_count": null,
   "id": "ab3f5bed",
   "metadata": {},
   "outputs": [
    {
     "data": {
      "application/javascript": [
       "window.require && require([\"base/js/namespace\"],function(Jupyter){Jupyter.notebook.save_checkpoint()})"
      ],
      "text/plain": [
       "<IPython.core.display.Javascript object>"
      ]
     },
     "metadata": {},
     "output_type": "display_data"
    }
   ],
   "source": [
    "\n",
    "jovian.commit()"
   ]
  },
  {
   "cell_type": "code",
   "execution_count": null,
   "id": "5ff28cf7",
   "metadata": {},
   "outputs": [],
   "source": []
  }
 ],
 "metadata": {
  "kernelspec": {
   "display_name": "Python 3 (ipykernel)",
   "language": "python",
   "name": "python3"
  },
  "language_info": {
   "codemirror_mode": {
    "name": "ipython",
    "version": 3
   },
   "file_extension": ".py",
   "mimetype": "text/x-python",
   "name": "python",
   "nbconvert_exporter": "python",
   "pygments_lexer": "ipython3",
   "version": "3.9.7"
  }
 },
 "nbformat": 4,
 "nbformat_minor": 5
}
